{
  "nbformat": 4,
  "nbformat_minor": 0,
  "metadata": {
    "colab": {
      "provenance": []
    },
    "kernelspec": {
      "name": "python3",
      "display_name": "Python 3"
    },
    "language_info": {
      "name": "python"
    }
  },
  "cells": [
    {
      "cell_type": "code",
      "source": [
        "import pandas as pd\n",
        "\n",
        "data = pd.read_csv('/content/CC GENERAL.csv')\n",
        "\n",
        "print(data.head())\n"
      ],
      "metadata": {
        "colab": {
          "base_uri": "https://localhost:8080/"
        },
        "id": "3D_BDBq2cpBV",
        "outputId": "1b6175bf-e773-4d59-c25c-1eeffd28c941"
      },
      "execution_count": null,
      "outputs": [
        {
          "output_type": "stream",
          "name": "stdout",
          "text": [
            "  CUST_ID      BALANCE  BALANCE_FREQUENCY  PURCHASES  ONEOFF_PURCHASES  \\\n",
            "0  C10001    40.900749           0.818182      95.40              0.00   \n",
            "1  C10002  3202.467416           0.909091       0.00              0.00   \n",
            "2  C10003  2495.148862           1.000000     773.17            773.17   \n",
            "3  C10004  1666.670542           0.636364    1499.00           1499.00   \n",
            "4  C10005   817.714335           1.000000      16.00             16.00   \n",
            "\n",
            "   INSTALLMENTS_PURCHASES  CASH_ADVANCE  PURCHASES_FREQUENCY  \\\n",
            "0                    95.4      0.000000             0.166667   \n",
            "1                     0.0   6442.945483             0.000000   \n",
            "2                     0.0      0.000000             1.000000   \n",
            "3                     0.0    205.788017             0.083333   \n",
            "4                     0.0      0.000000             0.083333   \n",
            "\n",
            "   ONEOFF_PURCHASES_FREQUENCY  PURCHASES_INSTALLMENTS_FREQUENCY  \\\n",
            "0                    0.000000                          0.083333   \n",
            "1                    0.000000                          0.000000   \n",
            "2                    1.000000                          0.000000   \n",
            "3                    0.083333                          0.000000   \n",
            "4                    0.083333                          0.000000   \n",
            "\n",
            "   CASH_ADVANCE_FREQUENCY  CASH_ADVANCE_TRX  PURCHASES_TRX  CREDIT_LIMIT  \\\n",
            "0                0.000000                 0              2        1000.0   \n",
            "1                0.250000                 4              0        7000.0   \n",
            "2                0.000000                 0             12        7500.0   \n",
            "3                0.083333                 1              1        7500.0   \n",
            "4                0.000000                 0              1        1200.0   \n",
            "\n",
            "      PAYMENTS  MINIMUM_PAYMENTS  PRC_FULL_PAYMENT  TENURE  \n",
            "0   201.802084        139.509787          0.000000      12  \n",
            "1  4103.032597       1072.340217          0.222222      12  \n",
            "2   622.066742        627.284787          0.000000      12  \n",
            "3     0.000000               NaN          0.000000      12  \n",
            "4   678.334763        244.791237          0.000000      12  \n"
          ]
        }
      ]
    },
    {
      "cell_type": "code",
      "source": [
        "from sklearn.preprocessing import MinMaxScaler\n",
        "from sklearn.cluster import KMeans\n",
        "\n",
        "data.dropna(inplace=True)\n",
        "\n",
        "X = data.drop(columns=['CUST_ID'])\n",
        "\n",
        "scaler = MinMaxScaler()\n",
        "X_scaled = scaler.fit_transform(X)\n",
        "\n",
        "kmeans = KMeans(n_clusters=3, random_state=42)\n",
        "kmeans.fit(X_scaled)\n",
        "\n",
        "data['Cluster'] = kmeans.labels_\n"
      ],
      "metadata": {
        "colab": {
          "base_uri": "https://localhost:8080/"
        },
        "id": "WBW1CnmLd1MX",
        "outputId": "9cb67bb2-6729-4c76-c55c-fb2ecdccf102"
      },
      "execution_count": null,
      "outputs": [
        {
          "output_type": "stream",
          "name": "stderr",
          "text": [
            "/usr/local/lib/python3.10/dist-packages/sklearn/cluster/_kmeans.py:870: FutureWarning: The default value of `n_init` will change from 10 to 'auto' in 1.4. Set the value of `n_init` explicitly to suppress the warning\n",
            "  warnings.warn(\n"
          ]
        }
      ]
    },
    {
      "cell_type": "code",
      "source": [
        "\n",
        "print(data['Cluster'].value_counts())\n",
        "\n",
        "print(kmeans.cluster_centers_)\n"
      ],
      "metadata": {
        "colab": {
          "base_uri": "https://localhost:8080/"
        },
        "id": "VMy_vCkhdsme",
        "outputId": "efa86093-a93b-4a63-bbf2-b8d39ea74270"
      },
      "execution_count": null,
      "outputs": [
        {
          "output_type": "stream",
          "name": "stdout",
          "text": [
            "Cluster\n",
            "0    4522\n",
            "1    2715\n",
            "2    1399\n",
            "Name: count, dtype: int64\n",
            "[[0.09287414 0.85072636 0.00616988 0.00584532 0.00286683 0.02945101\n",
            "  0.14680693 0.08503325 0.06065207 0.12734133 0.03704203 0.00777453\n",
            "  0.13712931 0.03022637 0.01115794 0.07116531 0.91316527]\n",
            " [0.06086173 0.92811948 0.02205841 0.0067475  0.03588262 0.01087817\n",
            "  0.87043657 0.1003656  0.81881571 0.0478454  0.0142778  0.05856251\n",
            "  0.13083651 0.02800505 0.01219409 0.24429722 0.91976673]\n",
            " [0.10073889 0.97404876 0.06632799 0.05961917 0.03655754 0.01388922\n",
            "  0.89804132 0.80144027 0.49162203 0.06182669 0.01887527 0.12043718\n",
            "  0.22458559 0.06512179 0.01009644 0.27924918 0.95735049]]\n"
          ]
        }
      ]
    }
  ]
}