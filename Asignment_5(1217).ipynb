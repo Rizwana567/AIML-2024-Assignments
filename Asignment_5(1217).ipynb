{
  "nbformat": 4,
  "nbformat_minor": 0,
  "metadata": {
    "colab": {
      "provenance": []
    },
    "kernelspec": {
      "name": "python3",
      "display_name": "Python 3"
    },
    "language_info": {
      "name": "python"
    }
  },
  "cells": [
    {
      "cell_type": "code",
      "execution_count": 2,
      "metadata": {
        "id": "EjCJCj7bMCPK"
      },
      "outputs": [],
      "source": [
        "import pandas as pd\n",
        "from sklearn.model_selection import train_test_split\n",
        "from sklearn.preprocessing import MinMaxScaler\n",
        "from sklearn.linear_model import LinearRegression\n",
        "from sklearn.metrics import mean_squared_error, mean_absolute_error\n",
        "import numpy as np"
      ]
    },
    {
      "cell_type": "code",
      "source": [
        "data = pd.read_csv('/content/housing.csv')\n",
        "print(data.describe())"
      ],
      "metadata": {
        "colab": {
          "base_uri": "https://localhost:8080/"
        },
        "id": "fbzBKkTaMl81",
        "outputId": "c5131985-2625-4c56-9511-449ab42a345f"
      },
      "execution_count": 9,
      "outputs": [
        {
          "output_type": "stream",
          "name": "stdout",
          "text": [
            "          longitude      latitude  housing_median_age   total_rooms  \\\n",
            "count  20640.000000  20640.000000        20640.000000  20640.000000   \n",
            "mean    -119.569704     35.631861           28.639486   2635.763081   \n",
            "std        2.003532      2.135952           12.585558   2181.615252   \n",
            "min     -124.350000     32.540000            1.000000      2.000000   \n",
            "25%     -121.800000     33.930000           18.000000   1447.750000   \n",
            "50%     -118.490000     34.260000           29.000000   2127.000000   \n",
            "75%     -118.010000     37.710000           37.000000   3148.000000   \n",
            "max     -114.310000     41.950000           52.000000  39320.000000   \n",
            "\n",
            "       total_bedrooms    population    households  median_income  \\\n",
            "count    20433.000000  20640.000000  20640.000000   20640.000000   \n",
            "mean       537.870553   1425.476744    499.539680       3.870671   \n",
            "std        421.385070   1132.462122    382.329753       1.899822   \n",
            "min          1.000000      3.000000      1.000000       0.499900   \n",
            "25%        296.000000    787.000000    280.000000       2.563400   \n",
            "50%        435.000000   1166.000000    409.000000       3.534800   \n",
            "75%        647.000000   1725.000000    605.000000       4.743250   \n",
            "max       6445.000000  35682.000000   6082.000000      15.000100   \n",
            "\n",
            "       median_house_value  \n",
            "count        20640.000000  \n",
            "mean        206855.816909  \n",
            "std         115395.615874  \n",
            "min          14999.000000  \n",
            "25%         119600.000000  \n",
            "50%         179700.000000  \n",
            "75%         264725.000000  \n",
            "max         500001.000000  \n"
          ]
        }
      ]
    },
    {
      "cell_type": "code",
      "source": [
        "print(data.dtypes)\n",
        "print(data.shape)"
      ],
      "metadata": {
        "colab": {
          "base_uri": "https://localhost:8080/"
        },
        "id": "2uzsMExsM59I",
        "outputId": "ea3c85e1-f900-4dae-d496-97efe3d80ae2"
      },
      "execution_count": 5,
      "outputs": [
        {
          "output_type": "stream",
          "name": "stdout",
          "text": [
            "longitude             float64\n",
            "latitude              float64\n",
            "housing_median_age    float64\n",
            "total_rooms           float64\n",
            "total_bedrooms        float64\n",
            "population            float64\n",
            "households            float64\n",
            "median_income         float64\n",
            "median_house_value    float64\n",
            "ocean_proximity        object\n",
            "dtype: object\n",
            "(20640, 10)\n"
          ]
        }
      ]
    },
    {
      "cell_type": "code",
      "source": [
        "null_values = data.isnull().sum()\n",
        "print(\"Null values in each column:\\n\", null_values)"
      ],
      "metadata": {
        "colab": {
          "base_uri": "https://localhost:8080/"
        },
        "id": "upGrGzPBM-Qm",
        "outputId": "c52ca2dd-2847-415e-bb3b-bece45a7e536"
      },
      "execution_count": 6,
      "outputs": [
        {
          "output_type": "stream",
          "name": "stdout",
          "text": [
            "Null values in each column:\n",
            " longitude               0\n",
            "latitude                0\n",
            "housing_median_age      0\n",
            "total_rooms             0\n",
            "total_bedrooms        207\n",
            "population              0\n",
            "households              0\n",
            "median_income           0\n",
            "median_house_value      0\n",
            "ocean_proximity         0\n",
            "dtype: int64\n"
          ]
        }
      ]
    },
    {
      "cell_type": "code",
      "source": [
        "print(\"\\nNull Values:\")\n",
        "print(data.isnull().sum())\n",
        "\n",
        "\n",
        "data.fillna(data.mean(), inplace=True)"
      ],
      "metadata": {
        "colab": {
          "base_uri": "https://localhost:8080/"
        },
        "id": "byn6Af3DNC0q",
        "outputId": "f1b58734-2a51-4b3c-bee2-6afa573cac45"
      },
      "execution_count": 14,
      "outputs": [
        {
          "output_type": "stream",
          "name": "stdout",
          "text": [
            "\n",
            "Null Values:\n",
            "longitude             0\n",
            "latitude              0\n",
            "housing_median_age    0\n",
            "total_rooms           0\n",
            "total_bedrooms        0\n",
            "population            0\n",
            "households            0\n",
            "median_income         0\n",
            "median_house_value    0\n",
            "ocean_proximity       0\n",
            "dtype: int64\n"
          ]
        },
        {
          "output_type": "stream",
          "name": "stderr",
          "text": [
            "<ipython-input-14-9b33ddd97545>:5: FutureWarning: The default value of numeric_only in DataFrame.mean is deprecated. In a future version, it will default to False. In addition, specifying 'numeric_only=None' is deprecated. Select only valid columns or specify the value of numeric_only to silence this warning.\n",
            "  data.fillna(data.mean(), inplace=True)\n"
          ]
        }
      ]
    },
    {
      "cell_type": "code",
      "source": [
        "y = data[\"median_house_value\"]\n",
        "X = data.drop(columns=[\"median_house_value\"],axis=1)\n",
        "\n",
        "print(\"Features (X):\\n\", X.head())\n",
        "print(\"\\nTarget (y):\\n\", y.head())"
      ],
      "metadata": {
        "colab": {
          "base_uri": "https://localhost:8080/"
        },
        "id": "vQyQReBdQ2Eq",
        "outputId": "d5c7bc4e-b3ce-4333-ba21-871641503934"
      },
      "execution_count": 11,
      "outputs": [
        {
          "output_type": "stream",
          "name": "stdout",
          "text": [
            "Features (X):\n",
            "    longitude  latitude  housing_median_age  total_rooms  total_bedrooms  \\\n",
            "0    -122.23     37.88                41.0        880.0           129.0   \n",
            "1    -122.22     37.86                21.0       7099.0          1106.0   \n",
            "2    -122.24     37.85                52.0       1467.0           190.0   \n",
            "3    -122.25     37.85                52.0       1274.0           235.0   \n",
            "4    -122.25     37.85                52.0       1627.0           280.0   \n",
            "\n",
            "   population  households  median_income ocean_proximity  \n",
            "0       322.0       126.0         8.3252        NEAR BAY  \n",
            "1      2401.0      1138.0         8.3014        NEAR BAY  \n",
            "2       496.0       177.0         7.2574        NEAR BAY  \n",
            "3       558.0       219.0         5.6431        NEAR BAY  \n",
            "4       565.0       259.0         3.8462        NEAR BAY  \n",
            "\n",
            "Target (y):\n",
            " 0    452600.0\n",
            "1    358500.0\n",
            "2    352100.0\n",
            "3    341300.0\n",
            "4    342200.0\n",
            "Name: median_house_value, dtype: float64\n"
          ]
        }
      ]
    },
    {
      "cell_type": "code",
      "source": [
        "from sklearn.preprocessing import MinMaxScaler\n",
        "data['ocean_proximity'] = data['ocean_proximity'].replace('NEAR BAY', 1)\n",
        "data['ocean_proximity'] = data['ocean_proximity'].replace('INLAND', 0)\n",
        "data['median_house_value'] = pd.to_numeric(data['population'], errors='coerce')\n",
        "scaler = MinMaxScaler()\n",
        "numerical_columns = data.select_dtypes(include=['float64', 'int64']).columns\n",
        "data[numerical_columns] = scaler.fit_transform(data[numerical_columns])\n",
        "\n",
        "print(data)"
      ],
      "metadata": {
        "colab": {
          "base_uri": "https://localhost:8080/"
        },
        "id": "Hj6fNNeURi3s",
        "outputId": "8164a11c-77cc-47ac-9a00-f5b14a12097b"
      },
      "execution_count": 15,
      "outputs": [
        {
          "output_type": "stream",
          "name": "stdout",
          "text": [
            "       longitude  latitude  housing_median_age  total_rooms  total_bedrooms  \\\n",
            "0       0.211155  0.567481            0.784314     0.022331        0.020016   \n",
            "1       0.212151  0.565356            0.392157     0.180503        0.171606   \n",
            "2       0.210159  0.564293            1.000000     0.037260        0.029480   \n",
            "3       0.209163  0.564293            1.000000     0.032352        0.036462   \n",
            "4       0.209163  0.564293            1.000000     0.041330        0.043445   \n",
            "...          ...       ...                 ...          ...             ...   \n",
            "20635   0.324701  0.737513            0.470588     0.042296        0.058029   \n",
            "20636   0.312749  0.738576            0.333333     0.017676        0.023274   \n",
            "20637   0.311753  0.732200            0.313725     0.057277        0.075252   \n",
            "20638   0.301793  0.732200            0.333333     0.047256        0.063460   \n",
            "20639   0.309761  0.725824            0.294118     0.070782        0.095578   \n",
            "\n",
            "       population  households  median_income  median_house_value  \\\n",
            "0        0.008941    0.020556       0.539668            0.008941   \n",
            "1        0.067210    0.186976       0.538027            0.067210   \n",
            "2        0.013818    0.028943       0.466028            0.013818   \n",
            "3        0.015555    0.035849       0.354699            0.015555   \n",
            "4        0.015752    0.042427       0.230776            0.015752   \n",
            "...           ...         ...            ...                 ...   \n",
            "20635    0.023599    0.054103       0.073130            0.023599   \n",
            "20636    0.009894    0.018582       0.141853            0.009894   \n",
            "20637    0.028140    0.071041       0.082764            0.028140   \n",
            "20638    0.020684    0.057227       0.094295            0.020684   \n",
            "20639    0.038790    0.086992       0.130253            0.038790   \n",
            "\n",
            "      ocean_proximity  \n",
            "0                   1  \n",
            "1                   1  \n",
            "2                   1  \n",
            "3                   1  \n",
            "4                   1  \n",
            "...               ...  \n",
            "20635               0  \n",
            "20636               0  \n",
            "20637               0  \n",
            "20638               0  \n",
            "20639               0  \n",
            "\n",
            "[20640 rows x 10 columns]\n"
          ]
        }
      ]
    },
    {
      "cell_type": "code",
      "source": [
        "from sklearn.model_selection import train_test_split\n",
        "\n",
        "X_train, X_test, y_train, y_test = train_test_split(X, y, test_size=0.2, random_state=0)\n",
        "\n",
        "print(\"Train set shape:\", X_train.shape)\n",
        "print(\"Test set shape:\", X_test.shape)"
      ],
      "metadata": {
        "colab": {
          "base_uri": "https://localhost:8080/"
        },
        "id": "8M4upfYDSa5p",
        "outputId": "0deccce9-c088-4996-e660-b782a1f3d74a"
      },
      "execution_count": 16,
      "outputs": [
        {
          "output_type": "stream",
          "name": "stdout",
          "text": [
            "Train set shape: (16512, 9)\n",
            "Test set shape: (4128, 9)\n"
          ]
        }
      ]
    }
  ]
}